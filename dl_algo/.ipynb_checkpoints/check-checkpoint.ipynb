{
 "cells": [
  {
   "cell_type": "code",
   "execution_count": 3,
   "metadata": {},
   "outputs": [
    {
     "name": "stdout",
     "output_type": "stream",
     "text": [
      "52.9 ms ± 433 µs per loop (mean ± std. dev. of 7 runs, 10 loops each)\n"
     ]
    }
   ],
   "source": [
    "%%timeit\n",
    "\n",
    "from main import CTDataset\n",
    "\n",
    "dataset = CTDataset(\"../train_data\")\n",
    "for x in dataset:\n",
    "    imgs, labels = x"
   ]
  },
  {
   "cell_type": "code",
   "execution_count": 17,
   "metadata": {},
   "outputs": [
    {
     "name": "stdout",
     "output_type": "stream",
     "text": [
      "torch.Size([1, 38, 320, 416]) torch.Size([])\n",
      "tensor(0)\n",
      "1.0\n"
     ]
    }
   ],
   "source": [
    "from main import CTDataset\n",
    "import numpy as np\n",
    "\n",
    "dataset = CTDataset(\"../train_data\")\n",
    "image, label = dataset[1]\n",
    "print(image.shape, label.shape)\n",
    "print(label)\n",
    "\n",
    "image_np = image.cpu().numpy()[0]\n",
    "print(image_np.max())\n",
    "\n",
    "from zqlib import imgs2vid\n",
    "# denormalization\n",
    "imgs2vid(((image_np+1)*127.5).astype(np.uint8), \"test.avi\")"
   ]
  },
  {
   "cell_type": "code",
   "execution_count": 11,
   "metadata": {},
   "outputs": [
    {
     "name": "stdout",
     "output_type": "stream",
     "text": [
      "Collecting zqlib\n",
      "  Downloading zqlib-0.1.9-py3-none-any.whl (4.8 kB)\n",
      "Requirement already satisfied: numpy in /Users/qiang.zhou/anaconda3/lib/python3.8/site-packages (from zqlib) (1.19.2)\n",
      "Requirement already satisfied: opencv-python in /Users/qiang.zhou/anaconda3/lib/python3.8/site-packages (from zqlib) (4.5.1.48)\n",
      "Installing collected packages: zqlib\n",
      "Successfully installed zqlib-0.1.9\n"
     ]
    }
   ],
   "source": [
    "! pip3 install zqlib"
   ]
  },
  {
   "cell_type": "code",
   "execution_count": 13,
   "metadata": {},
   "outputs": [],
   "source": [
    "!open ."
   ]
  },
  {
   "cell_type": "code",
   "execution_count": 18,
   "metadata": {},
   "outputs": [
    {
     "name": "stdout",
     "output_type": "stream",
     "text": [
      "tensor(0)\n"
     ]
    }
   ],
   "source": [
    "print(label)"
   ]
  },
  {
   "cell_type": "code",
   "execution_count": null,
   "metadata": {},
   "outputs": [],
   "source": []
  }
 ],
 "metadata": {
  "kernelspec": {
   "display_name": "Python 3",
   "language": "python",
   "name": "python3"
  },
  "language_info": {
   "codemirror_mode": {
    "name": "ipython",
    "version": 3
   },
   "file_extension": ".py",
   "mimetype": "text/x-python",
   "name": "python",
   "nbconvert_exporter": "python",
   "pygments_lexer": "ipython3",
   "version": "3.8.5"
  }
 },
 "nbformat": 4,
 "nbformat_minor": 4
}
